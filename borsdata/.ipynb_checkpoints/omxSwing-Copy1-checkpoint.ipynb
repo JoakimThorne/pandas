{
 "cells": [
  {
   "cell_type": "code",
   "execution_count": 88,
   "metadata": {},
   "outputs": [],
   "source": [
    "import pandas as pd\n",
    "import matplotlib.pyplot as plt\n",
    "import seaborn as sns\n",
    "import numpy as np"
   ]
  },
  {
   "cell_type": "code",
   "execution_count": 89,
   "metadata": {
    "scrolled": false
   },
   "outputs": [
    {
     "name": "stdout",
     "output_type": "stream",
     "text": [
      "(8836, 5)\n",
      "(5078, 5)\n"
     ]
    }
   ],
   "source": [
    "## Read and filter the data\n",
    "\n",
    "df = pd.read_csv(\"./OMXS30.csv\");\n",
    "\n",
    "df.head()\n",
    "\n",
    "df = df.sort_values(by=\"date\", ascending=False)\n",
    "\n",
    "print(df.shape)\n",
    "df = df[df[\"open\"] > 0]\n",
    "df = df[df[\"high\"] > 0]\n",
    "df = df[df[\"low\"] > 0]\n",
    "df = df[df[\"close\"] > 0]\n",
    "\n",
    "print(df.shape)"
   ]
  },
  {
   "cell_type": "code",
   "execution_count": 90,
   "metadata": {},
   "outputs": [
    {
     "name": "stdout",
     "output_type": "stream",
     "text": [
      "(5078, 19)\n",
      "(5058, 19)\n"
     ]
    },
    {
     "data": {
      "text/html": [
       "<div>\n",
       "<style scoped>\n",
       "    .dataframe tbody tr th:only-of-type {\n",
       "        vertical-align: middle;\n",
       "    }\n",
       "\n",
       "    .dataframe tbody tr th {\n",
       "        vertical-align: top;\n",
       "    }\n",
       "\n",
       "    .dataframe thead th {\n",
       "        text-align: right;\n",
       "    }\n",
       "</style>\n",
       "<table border=\"1\" class=\"dataframe\">\n",
       "  <thead>\n",
       "    <tr style=\"text-align: right;\">\n",
       "      <th></th>\n",
       "      <th>date</th>\n",
       "      <th>high</th>\n",
       "      <th>low</th>\n",
       "      <th>close</th>\n",
       "      <th>open</th>\n",
       "      <th>MA_5</th>\n",
       "      <th>MA_10</th>\n",
       "      <th>MA_20</th>\n",
       "      <th>STDDEV_2%</th>\n",
       "      <th>STDDEV_5%</th>\n",
       "      <th>STDDEV_10%</th>\n",
       "      <th>gap%</th>\n",
       "      <th>high%</th>\n",
       "      <th>low%</th>\n",
       "      <th>close%</th>\n",
       "      <th>MA_5%</th>\n",
       "      <th>MA_10%</th>\n",
       "      <th>MA_20%</th>\n",
       "      <th>signal</th>\n",
       "    </tr>\n",
       "  </thead>\n",
       "  <tbody>\n",
       "    <tr>\n",
       "      <th>8815</th>\n",
       "      <td>1551049200000</td>\n",
       "      <td>1598.0907</td>\n",
       "      <td>1581.0932</td>\n",
       "      <td>1586.5540</td>\n",
       "      <td>1590.5154</td>\n",
       "      <td>1579.99098</td>\n",
       "      <td>1576.58853</td>\n",
       "      <td>1583.436160</td>\n",
       "      <td>0.001158</td>\n",
       "      <td>0.003511</td>\n",
       "      <td>0.006929</td>\n",
       "      <td>0.001062</td>\n",
       "      <td>0.015945</td>\n",
       "      <td>0.005139</td>\n",
       "      <td>-0.001431</td>\n",
       "      <td>-0.004137</td>\n",
       "      <td>-0.006281</td>\n",
       "      <td>-0.001965</td>\n",
       "      <td>0</td>\n",
       "    </tr>\n",
       "    <tr>\n",
       "      <th>8814</th>\n",
       "      <td>1550790000000</td>\n",
       "      <td>1591.8098</td>\n",
       "      <td>1573.0089</td>\n",
       "      <td>1588.8283</td>\n",
       "      <td>1573.0089</td>\n",
       "      <td>1581.71364</td>\n",
       "      <td>1579.60822</td>\n",
       "      <td>1584.034095</td>\n",
       "      <td>0.001012</td>\n",
       "      <td>0.004307</td>\n",
       "      <td>0.006021</td>\n",
       "      <td>0.000229</td>\n",
       "      <td>0.003779</td>\n",
       "      <td>0.000229</td>\n",
       "      <td>0.010288</td>\n",
       "      <td>-0.004478</td>\n",
       "      <td>-0.005803</td>\n",
       "      <td>-0.003017</td>\n",
       "      <td>0</td>\n",
       "    </tr>\n",
       "    <tr>\n",
       "      <th>8813</th>\n",
       "      <td>1550703600000</td>\n",
       "      <td>1591.2633</td>\n",
       "      <td>1572.6488</td>\n",
       "      <td>1572.6488</td>\n",
       "      <td>1585.8176</td>\n",
       "      <td>1581.70652</td>\n",
       "      <td>1580.98198</td>\n",
       "      <td>1582.415225</td>\n",
       "      <td>0.007275</td>\n",
       "      <td>0.004359</td>\n",
       "      <td>0.004369</td>\n",
       "      <td>-0.001756</td>\n",
       "      <td>0.002340</td>\n",
       "      <td>-0.003859</td>\n",
       "      <td>-0.010046</td>\n",
       "      <td>0.005760</td>\n",
       "      <td>0.005299</td>\n",
       "      <td>0.006210</td>\n",
       "      <td>1</td>\n",
       "    </tr>\n",
       "    <tr>\n",
       "      <th>8812</th>\n",
       "      <td>1550617200000</td>\n",
       "      <td>1591.3640</td>\n",
       "      <td>1578.7414</td>\n",
       "      <td>1588.6079</td>\n",
       "      <td>1587.5478</td>\n",
       "      <td>1584.11878</td>\n",
       "      <td>1582.57993</td>\n",
       "      <td>1581.546135</td>\n",
       "      <td>0.007104</td>\n",
       "      <td>0.004221</td>\n",
       "      <td>0.004132</td>\n",
       "      <td>0.000206</td>\n",
       "      <td>0.004634</td>\n",
       "      <td>-0.001892</td>\n",
       "      <td>0.000874</td>\n",
       "      <td>-0.002826</td>\n",
       "      <td>-0.003794</td>\n",
       "      <td>-0.004445</td>\n",
       "      <td>0</td>\n",
       "    </tr>\n",
       "    <tr>\n",
       "      <th>8811</th>\n",
       "      <td>1550530800000</td>\n",
       "      <td>1591.9642</td>\n",
       "      <td>1581.7346</td>\n",
       "      <td>1587.2214</td>\n",
       "      <td>1584.0238</td>\n",
       "      <td>1584.77208</td>\n",
       "      <td>1582.50496</td>\n",
       "      <td>1580.150315</td>\n",
       "      <td>0.000618</td>\n",
       "      <td>0.004311</td>\n",
       "      <td>0.004095</td>\n",
       "      <td>0.000105</td>\n",
       "      <td>0.005380</td>\n",
       "      <td>0.003221</td>\n",
       "      <td>0.002124</td>\n",
       "      <td>-0.001543</td>\n",
       "      <td>-0.002972</td>\n",
       "      <td>-0.004455</td>\n",
       "      <td>1</td>\n",
       "    </tr>\n",
       "  </tbody>\n",
       "</table>\n",
       "</div>"
      ],
      "text/plain": [
       "               date       high        low      close       open        MA_5  \\\n",
       "8815  1551049200000  1598.0907  1581.0932  1586.5540  1590.5154  1579.99098   \n",
       "8814  1550790000000  1591.8098  1573.0089  1588.8283  1573.0089  1581.71364   \n",
       "8813  1550703600000  1591.2633  1572.6488  1572.6488  1585.8176  1581.70652   \n",
       "8812  1550617200000  1591.3640  1578.7414  1588.6079  1587.5478  1584.11878   \n",
       "8811  1550530800000  1591.9642  1581.7346  1587.2214  1584.0238  1584.77208   \n",
       "\n",
       "           MA_10        MA_20  STDDEV_2%  STDDEV_5%  STDDEV_10%      gap%  \\\n",
       "8815  1576.58853  1583.436160   0.001158   0.003511    0.006929  0.001062   \n",
       "8814  1579.60822  1584.034095   0.001012   0.004307    0.006021  0.000229   \n",
       "8813  1580.98198  1582.415225   0.007275   0.004359    0.004369 -0.001756   \n",
       "8812  1582.57993  1581.546135   0.007104   0.004221    0.004132  0.000206   \n",
       "8811  1582.50496  1580.150315   0.000618   0.004311    0.004095  0.000105   \n",
       "\n",
       "         high%      low%    close%     MA_5%    MA_10%    MA_20%  signal  \n",
       "8815  0.015945  0.005139 -0.001431 -0.004137 -0.006281 -0.001965       0  \n",
       "8814  0.003779  0.000229  0.010288 -0.004478 -0.005803 -0.003017       0  \n",
       "8813  0.002340 -0.003859 -0.010046  0.005760  0.005299  0.006210       1  \n",
       "8812  0.004634 -0.001892  0.000874 -0.002826 -0.003794 -0.004445       0  \n",
       "8811  0.005380  0.003221  0.002124 -0.001543 -0.002972 -0.004455       1  "
      ]
     },
     "execution_count": 90,
     "metadata": {},
     "output_type": "execute_result"
    }
   ],
   "source": [
    "## Add indicators\n",
    "\n",
    "df['MA_5'] = df['close'].rolling(window=5).mean()\n",
    "df['MA_10'] = df['close'].rolling(window=10).mean()\n",
    "df['MA_20'] = df['close'].rolling(window=20).mean()\n",
    "\n",
    "\n",
    "#Standard Deviation\n",
    "df['STDDEV_2%'] =  df['close'].rolling(window=2).std() / df['close']\n",
    "df['STDDEV_5%'] =  df['close'].rolling(window=5).std() / df['close']\n",
    "df['STDDEV_10%'] =  df['close'].rolling(window=10).std() / df['close']\n",
    "\n",
    "\n",
    "df[\"gap%\"]= ((df[\"open\"] / df[\"close\"].shift(-1))-1)\n",
    "df[\"high%\"]= ((df[\"high\"] / df[\"open\"].shift(-1))-1)\n",
    "df[\"low%\"]= ((df[\"low\"] / df[\"low\"].shift(-1))-1)\n",
    "df[\"close%\"]= ((df[\"close\"] / df[\"close\"].shift(-1))-1)\n",
    "\n",
    "\n",
    "df[\"MA_5%\"]= ((df[\"MA_5\"] / df[\"close\"])-1)\n",
    "df[\"MA_10%\"]= ((df[\"MA_10\"] / df[\"close\"])-1)\n",
    "df[\"MA_20%\"]= ((df[\"MA_20\"] / df[\"close\"])-1)\n",
    "\n",
    "df['signal'] = np.where(df[\"close\"].shift(1) > df[\"close\"], 1, 0)\n",
    "\n",
    "print(df.shape)\n",
    "df = df.dropna()\n",
    "print(df.shape)\n",
    "df.head()\n"
   ]
  },
  {
   "cell_type": "code",
   "execution_count": 131,
   "metadata": {},
   "outputs": [
    {
     "data": {
      "text/html": [
       "<div>\n",
       "<style scoped>\n",
       "    .dataframe tbody tr th:only-of-type {\n",
       "        vertical-align: middle;\n",
       "    }\n",
       "\n",
       "    .dataframe tbody tr th {\n",
       "        vertical-align: top;\n",
       "    }\n",
       "\n",
       "    .dataframe thead th {\n",
       "        text-align: right;\n",
       "    }\n",
       "</style>\n",
       "<table border=\"1\" class=\"dataframe\">\n",
       "  <thead>\n",
       "    <tr style=\"text-align: right;\">\n",
       "      <th></th>\n",
       "      <th>STDDEV_2%</th>\n",
       "      <th>STDDEV_5%</th>\n",
       "      <th>STDDEV_10%</th>\n",
       "      <th>gap%</th>\n",
       "      <th>high%</th>\n",
       "      <th>low%</th>\n",
       "      <th>close%</th>\n",
       "      <th>MA_5%</th>\n",
       "      <th>MA_10%</th>\n",
       "      <th>MA_20%</th>\n",
       "      <th>signal</th>\n",
       "    </tr>\n",
       "  </thead>\n",
       "  <tbody>\n",
       "    <tr>\n",
       "      <th>8815</th>\n",
       "      <td>0.001158</td>\n",
       "      <td>0.003511</td>\n",
       "      <td>0.006929</td>\n",
       "      <td>0.001062</td>\n",
       "      <td>0.015945</td>\n",
       "      <td>0.005139</td>\n",
       "      <td>-0.001431</td>\n",
       "      <td>-0.004137</td>\n",
       "      <td>-0.006281</td>\n",
       "      <td>-0.001965</td>\n",
       "      <td>0</td>\n",
       "    </tr>\n",
       "    <tr>\n",
       "      <th>8814</th>\n",
       "      <td>0.001012</td>\n",
       "      <td>0.004307</td>\n",
       "      <td>0.006021</td>\n",
       "      <td>0.000229</td>\n",
       "      <td>0.003779</td>\n",
       "      <td>0.000229</td>\n",
       "      <td>0.010288</td>\n",
       "      <td>-0.004478</td>\n",
       "      <td>-0.005803</td>\n",
       "      <td>-0.003017</td>\n",
       "      <td>0</td>\n",
       "    </tr>\n",
       "    <tr>\n",
       "      <th>8813</th>\n",
       "      <td>0.007275</td>\n",
       "      <td>0.004359</td>\n",
       "      <td>0.004369</td>\n",
       "      <td>-0.001756</td>\n",
       "      <td>0.002340</td>\n",
       "      <td>-0.003859</td>\n",
       "      <td>-0.010046</td>\n",
       "      <td>0.005760</td>\n",
       "      <td>0.005299</td>\n",
       "      <td>0.006210</td>\n",
       "      <td>1</td>\n",
       "    </tr>\n",
       "    <tr>\n",
       "      <th>8812</th>\n",
       "      <td>0.007104</td>\n",
       "      <td>0.004221</td>\n",
       "      <td>0.004132</td>\n",
       "      <td>0.000206</td>\n",
       "      <td>0.004634</td>\n",
       "      <td>-0.001892</td>\n",
       "      <td>0.000874</td>\n",
       "      <td>-0.002826</td>\n",
       "      <td>-0.003794</td>\n",
       "      <td>-0.004445</td>\n",
       "      <td>0</td>\n",
       "    </tr>\n",
       "    <tr>\n",
       "      <th>8811</th>\n",
       "      <td>0.000618</td>\n",
       "      <td>0.004311</td>\n",
       "      <td>0.004095</td>\n",
       "      <td>0.000105</td>\n",
       "      <td>0.005380</td>\n",
       "      <td>0.003221</td>\n",
       "      <td>0.002124</td>\n",
       "      <td>-0.001543</td>\n",
       "      <td>-0.002972</td>\n",
       "      <td>-0.004455</td>\n",
       "      <td>1</td>\n",
       "    </tr>\n",
       "  </tbody>\n",
       "</table>\n",
       "</div>"
      ],
      "text/plain": [
       "      STDDEV_2%  STDDEV_5%  STDDEV_10%      gap%     high%      low%  \\\n",
       "8815   0.001158   0.003511    0.006929  0.001062  0.015945  0.005139   \n",
       "8814   0.001012   0.004307    0.006021  0.000229  0.003779  0.000229   \n",
       "8813   0.007275   0.004359    0.004369 -0.001756  0.002340 -0.003859   \n",
       "8812   0.007104   0.004221    0.004132  0.000206  0.004634 -0.001892   \n",
       "8811   0.000618   0.004311    0.004095  0.000105  0.005380  0.003221   \n",
       "\n",
       "        close%     MA_5%    MA_10%    MA_20%  signal  \n",
       "8815 -0.001431 -0.004137 -0.006281 -0.001965       0  \n",
       "8814  0.010288 -0.004478 -0.005803 -0.003017       0  \n",
       "8813 -0.010046  0.005760  0.005299  0.006210       1  \n",
       "8812  0.000874 -0.002826 -0.003794 -0.004445       0  \n",
       "8811  0.002124 -0.001543 -0.002972 -0.004455       1  "
      ]
     },
     "execution_count": 131,
     "metadata": {},
     "output_type": "execute_result"
    }
   ],
   "source": [
    "# dfC = df[[\"gap%\",\"high%\",\"low%\",\"close%\",\"MA_5%\",\"MA_10%\",\"MA_20%\",'signal']]\n",
    "dfC = df[[\"STDDEV_2%\",\"STDDEV_5%\",\"STDDEV_10%\",\"gap%\",\"high%\",\"low%\",\"close%\",\"MA_5%\",\"MA_10%\",\"MA_20%\",'signal']]\n",
    "\n",
    "dfC.head()"
   ]
  },
  {
   "cell_type": "code",
   "execution_count": 132,
   "metadata": {},
   "outputs": [
    {
     "data": {
      "text/plain": [
       "<matplotlib.axes._subplots.AxesSubplot at 0x20f2b177748>"
      ]
     },
     "execution_count": 132,
     "metadata": {},
     "output_type": "execute_result"
    },
    {
     "data": {
      "image/png": "[encoded data removed]",
      "text/plain": [
       "<Figure size 864x720 with 2 Axes>"
      ]
     },
     "metadata": {
      "needs_background": "light"
     },
     "output_type": "display_data"
    }
   ],
   "source": [
    "#corelation matrix.\n",
    "corr= dfC.corr()\n",
    "mask = np.array(corr)\n",
    "mask[np.tril_indices_from(mask)] = False\n",
    "fig=plt.gcf()\n",
    "fig.set_size_inches(12,10)\n",
    "sns.heatmap(data=corr,mask=mask,square=True,annot=True,cbar=True,cmap=plt.cm.Reds)"
   ]
  },
  {
   "cell_type": "code",
   "execution_count": 133,
   "metadata": {},
   "outputs": [
    {
     "data": {
      "text/plain": [
       "STDDEV_5%     0.049110\n",
       "STDDEV_10%    0.061362\n",
       "high%         0.039438\n",
       "low%          0.027542\n",
       "MA_5%         0.520931\n",
       "MA_10%        0.380748\n",
       "MA_20%        0.280908\n",
       "signal        1.000000\n",
       "Name: signal, dtype: float64"
      ]
     },
     "execution_count": 133,
     "metadata": {},
     "output_type": "execute_result"
    }
   ],
   "source": [
    "corr_target = abs(corr[\"signal\"])\n",
    "\n",
    "relevant_features = corr_target[corr_target>0.02]\n",
    "relevant_features"
   ]
  },
  {
   "cell_type": "code",
   "execution_count": null,
   "metadata": {},
   "outputs": [],
   "source": []
  },
  {
   "cell_type": "code",
   "execution_count": 134,
   "metadata": {},
   "outputs": [],
   "source": [
    "from keras.models import Sequential\n",
    "from keras.layers import Activation, Dense, Dropout\n",
    "from keras.callbacks import EarlyStopping\n",
    "\n",
    "from sklearn.model_selection import train_test_split"
   ]
  },
  {
   "cell_type": "code",
   "execution_count": 135,
   "metadata": {},
   "outputs": [
    {
     "name": "stdout",
     "output_type": "stream",
     "text": [
      "      STDDEV_2%  STDDEV_5%  STDDEV_10%      gap%     high%      low%  \\\n",
      "8815   0.001158   0.003511    0.006929  0.001062  0.015945  0.005139   \n",
      "8814   0.001012   0.004307    0.006021  0.000229  0.003779  0.000229   \n",
      "8813   0.007275   0.004359    0.004369 -0.001756  0.002340 -0.003859   \n",
      "8812   0.007104   0.004221    0.004132  0.000206  0.004634 -0.001892   \n",
      "8811   0.000618   0.004311    0.004095  0.000105  0.005380  0.003221   \n",
      "\n",
      "        close%     MA_5%    MA_10%    MA_20%  \n",
      "8815 -0.001431 -0.004137 -0.006281 -0.001965  \n",
      "8814  0.010288 -0.004478 -0.005803 -0.003017  \n",
      "8813 -0.010046  0.005760  0.005299  0.006210  \n",
      "8812  0.000874 -0.002826 -0.003794 -0.004445  \n",
      "8811  0.002124 -0.001543 -0.002972 -0.004455  \n",
      "8815    0\n",
      "8814    0\n",
      "8813    1\n",
      "8812    0\n",
      "8811    1\n",
      "Name: signal, dtype: int32\n"
     ]
    }
   ],
   "source": [
    "X = dfC.drop(columns=\"signal\")\n",
    "Y = dfC[\"signal\"]\n",
    "\n",
    "print(X.head())\n",
    "print(Y.head())"
   ]
  },
  {
   "cell_type": "code",
   "execution_count": 136,
   "metadata": {},
   "outputs": [
    {
     "name": "stdout",
     "output_type": "stream",
     "text": [
      "(3540, 10) (1518, 10) (3540,) (1518,)\n"
     ]
    }
   ],
   "source": [
    "x_train, x_test, y_train, y_test = train_test_split(X, Y, test_size=0.3, random_state=0)\n",
    "print(x_train.shape, x_test.shape, y_train.shape, y_test.shape)"
   ]
  },
  {
   "cell_type": "code",
   "execution_count": 137,
   "metadata": {},
   "outputs": [
    {
     "name": "stdout",
     "output_type": "stream",
     "text": [
      "Train on 2832 samples, validate on 708 samples\n",
      "Epoch 1/100\n",
      " - 2s - loss: 0.6290 - acc: 0.6487 - val_loss: 0.5493 - val_acc: 0.7119\n",
      "Epoch 2/100\n",
      " - 0s - loss: 0.5579 - acc: 0.7150 - val_loss: 0.5229 - val_acc: 0.7429\n",
      "Epoch 3/100\n",
      " - 0s - loss: 0.5308 - acc: 0.7362 - val_loss: 0.4860 - val_acc: 0.7458\n",
      "Epoch 4/100\n",
      " - 0s - loss: 0.5099 - acc: 0.7461 - val_loss: 0.4796 - val_acc: 0.7768\n",
      "Epoch 5/100\n",
      " - 0s - loss: 0.5042 - acc: 0.7475 - val_loss: 0.4903 - val_acc: 0.7599\n",
      "Epoch 6/100\n",
      " - 0s - loss: 0.5047 - acc: 0.7454 - val_loss: 0.4608 - val_acc: 0.7811\n",
      "Epoch 7/100\n",
      " - 0s - loss: 0.4719 - acc: 0.7581 - val_loss: 0.4384 - val_acc: 0.7811\n",
      "Epoch 8/100\n",
      " - 0s - loss: 0.4681 - acc: 0.7578 - val_loss: 0.4254 - val_acc: 0.7740\n",
      "Epoch 9/100\n",
      " - 0s - loss: 0.4460 - acc: 0.7599 - val_loss: 0.4128 - val_acc: 0.7698\n",
      "Epoch 10/100\n",
      " - 0s - loss: 0.4223 - acc: 0.7733 - val_loss: 0.3882 - val_acc: 0.7839\n",
      "Epoch 11/100\n",
      " - 0s - loss: 0.4099 - acc: 0.7786 - val_loss: 0.3762 - val_acc: 0.7867\n",
      "Epoch 12/100\n",
      " - 0s - loss: 0.4100 - acc: 0.7747 - val_loss: 0.4067 - val_acc: 0.7839\n",
      "Epoch 13/100\n",
      " - 0s - loss: 0.3955 - acc: 0.7874 - val_loss: 0.4014 - val_acc: 0.7726\n",
      "Epoch 14/100\n",
      " - 0s - loss: 0.4039 - acc: 0.7751 - val_loss: 0.3680 - val_acc: 0.7994\n",
      "Epoch 15/100\n",
      " - 0s - loss: 0.3791 - acc: 0.7821 - val_loss: 0.3813 - val_acc: 0.7924\n",
      "Epoch 16/100\n",
      " - 0s - loss: 0.3744 - acc: 0.7895 - val_loss: 0.3650 - val_acc: 0.8037\n",
      "Epoch 17/100\n",
      " - 0s - loss: 0.3640 - acc: 0.7980 - val_loss: 0.3297 - val_acc: 0.8291\n",
      "Epoch 18/100\n",
      " - 0s - loss: 0.3614 - acc: 0.7917 - val_loss: 0.3331 - val_acc: 0.8150\n",
      "Epoch 19/100\n",
      " - 0s - loss: 0.3685 - acc: 0.7906 - val_loss: 0.3684 - val_acc: 0.8319\n",
      "Epoch 20/100\n",
      " - 0s - loss: 0.3661 - acc: 0.7941 - val_loss: 0.3316 - val_acc: 0.8121\n",
      "Epoch 21/100\n",
      " - 0s - loss: 0.3742 - acc: 0.7963 - val_loss: 0.3362 - val_acc: 0.8121\n",
      "Epoch 22/100\n",
      " - 0s - loss: 0.3603 - acc: 0.7963 - val_loss: 0.3361 - val_acc: 0.8404\n",
      "Epoch 00022: early stopping\n"
     ]
    }
   ],
   "source": [
    "model = Sequential()\n",
    "\n",
    "model.add(Dense(128, input_dim=x_train.shape[1]))\n",
    "model.add(Activation('relu'))\n",
    "model.add(Dropout(0.2))\n",
    "\n",
    "model.add(Dense(256))\n",
    "model.add(Activation('relu'))\n",
    "model.add(Dropout(0.2))\n",
    "\n",
    "model.add(Dense(256))\n",
    "model.add(Activation('relu'))\n",
    "model.add(Dropout(0.2))\n",
    "\n",
    "model.add(Dense(1))\n",
    "model.add(Activation('sigmoid'))\n",
    "\n",
    "model.compile(loss='binary_crossentropy', metrics=['accuracy'],\n",
    "              optimizer='adam')\n",
    "\n",
    "es = EarlyStopping(monitor='val_loss', mode='min', verbose=1, patience=5)\n",
    "\n",
    "model_output = model.fit(x_train, y_train,\n",
    "             batch_size=32,\n",
    "             epochs=100,\n",
    "             verbose=2,\n",
    "             callbacks=[es],\n",
    "             validation_split=0.2)"
   ]
  },
  {
   "cell_type": "code",
   "execution_count": 138,
   "metadata": {},
   "outputs": [
    {
     "name": "stdout",
     "output_type": "stream",
     "text": [
      "Training Accuracy :  0.7655688238315357\n",
      "Validation Accuracy :  0.7866589625064203\n"
     ]
    },
    {
     "data": {
      "image/png": "[encoded data removed]",
      "text/plain": [
       "<Figure size 432x288 with 1 Axes>"
      ]
     },
     "metadata": {
      "needs_background": "light"
     },
     "output_type": "display_data"
    },
    {
     "data": {
      "image/png": "[encoded data removed]",
      "text/plain": [
       "<Figure size 432x288 with 1 Axes>"
      ]
     },
     "metadata": {
      "needs_background": "light"
     },
     "output_type": "display_data"
    }
   ],
   "source": [
    "print('Training Accuracy : ' , np.mean(model_output.history[\"acc\"]))\n",
    "print('Validation Accuracy : ' , np.mean(model_output.history[\"val_acc\"]))\n",
    "\n",
    "plt.plot(model_output.history['acc'])\n",
    "plt.plot(model_output.history['val_acc'])\n",
    "plt.title('Model accuracy')\n",
    "plt.ylabel('Accuracy')\n",
    "plt.xlabel('Epoch')\n",
    "plt.legend(['Train', 'Test'], loc='upper left')\n",
    "plt.show()\n",
    "\n",
    "# Plot training & validation loss values\n",
    "plt.plot(model_output.history['loss'])\n",
    "plt.plot(model_output.history['val_loss'])\n",
    "plt.title('model_output loss')\n",
    "plt.ylabel('Loss')\n",
    "plt.xlabel('Epoch')\n",
    "plt.legend(['Train', 'Test'], loc='upper left')\n",
    "plt.show()"
   ]
  },
  {
   "cell_type": "code",
   "execution_count": null,
   "metadata": {},
   "outputs": [],
   "source": []
  },
  {
   "cell_type": "code",
   "execution_count": null,
   "metadata": {},
   "outputs": [],
   "source": []
  },
  {
   "cell_type": "code",
   "execution_count": null,
   "metadata": {},
   "outputs": [],
   "source": []
  }
 ],
 "metadata": {
  "kernelspec": {
   "display_name": "Python 3",
   "language": "python",
   "name": "python3"
  },
  "language_info": {
   "codemirror_mode": {
    "name": "ipython",
    "version": 3
   },
   "file_extension": ".py",
   "mimetype": "text/x-python",
   "name": "python",
   "nbconvert_exporter": "python",
   "pygments_lexer": "ipython3",
   "version": "3.7.3"
  }
 },
 "nbformat": 4,
 "nbformat_minor": 2
}
